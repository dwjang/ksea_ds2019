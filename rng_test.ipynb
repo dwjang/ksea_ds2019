{
  "cells": [
    {
      "metadata": {
        "trusted": true
      },
      "cell_type": "code",
      "source": "import numpy as np",
      "execution_count": 1,
      "outputs": []
    },
    {
      "metadata": {
        "trusted": true
      },
      "cell_type": "code",
      "source": "rng = np.random.RandomState(32121)",
      "execution_count": 2,
      "outputs": []
    },
    {
      "metadata": {
        "trusted": true
      },
      "cell_type": "code",
      "source": "rng.rand(1)",
      "execution_count": 11,
      "outputs": [
        {
          "output_type": "execute_result",
          "execution_count": 11,
          "data": {
            "text/plain": "array([0.29946911])"
          },
          "metadata": {}
        }
      ]
    },
    {
      "metadata": {
        "trusted": true
      },
      "cell_type": "code",
      "source": "a = rng.rand(10)\nprint(a)",
      "execution_count": 10,
      "outputs": [
        {
          "output_type": "stream",
          "text": "[0.96334943 0.08250571 0.75878898 0.04538689 0.08341062 0.71870266\n 0.99426271 0.85590977 0.31677762 0.33151826]\n",
          "name": "stdout"
        }
      ]
    },
    {
      "metadata": {
        "trusted": true
      },
      "cell_type": "code",
      "source": "5* a",
      "execution_count": 9,
      "outputs": [
        {
          "output_type": "execute_result",
          "execution_count": 9,
          "data": {
            "text/plain": "array([3.82517628, 4.96385835, 0.61946048, 0.45789693, 2.90497952,\n       1.80594483, 1.48539015, 0.42914512, 2.12438833, 3.53873368])"
          },
          "metadata": {}
        }
      ]
    },
    {
      "metadata": {
        "trusted": true
      },
      "cell_type": "code",
      "source": "x = 10 * rng.rand(50)\nprint(x)",
      "execution_count": 6,
      "outputs": [
        {
          "output_type": "stream",
          "text": "[5.18833421 5.4710802  7.96905023 5.49510419 2.54632076 7.69186902\n 2.97443331 8.4666873  1.15593024 1.91327988 5.62083785 9.13959876\n 9.2727783  6.78708745 5.07706219 1.78805385 9.84081633 4.33002317\n 1.57004846 9.10355238 3.63972944 7.12296462 5.60276862 6.40421488\n 8.80083184 4.45613622 4.00584522 2.17455718 1.15957182 8.07743563\n 5.44937887 7.22023491 7.92843785 2.94076401 9.93424946 4.60519535\n 8.93809337 8.05071584 1.704384   9.82582653 2.74448648 2.79843012\n 7.76634539 6.65338382 7.15826989 3.84717941 5.01726938 6.31481731\n 8.19878138 0.39183828]\n",
          "name": "stdout"
        }
      ]
    },
    {
      "metadata": {
        "trusted": true
      },
      "cell_type": "code",
      "source": "y = 2 * x - 5 + rng.randn(50)\nprint(y)",
      "execution_count": 7,
      "outputs": [
        {
          "output_type": "stream",
          "text": "[ 5.63201381  5.47903527  9.43868214  5.12147503 -0.1234968   9.81819055\n  0.51129875 11.11712764 -1.85021199 -1.30217642  5.04033899 11.41666932\n 13.52312395  7.60738362  5.53555755 -2.13696945 14.45131486  4.97039469\n -0.66395671 13.60697415  3.01476215  9.10090177  6.46457385  7.69091088\n 14.52656133  4.48413675  1.53696604 -1.07658    -3.55848651  9.84876059\n  5.95571381  6.33001329 12.63674956  0.04734945 16.5921191   5.02957821\n 12.5782347  11.92140146 -1.53375948 14.82562106  0.49659482  1.34116741\n 10.43525587  8.1637247   9.30874119  2.91366854  5.90521173  6.91469704\n 11.38943182 -4.69522673]\n",
          "name": "stdout"
        }
      ]
    },
    {
      "metadata": {
        "trusted": true
      },
      "cell_type": "code",
      "source": "",
      "execution_count": null,
      "outputs": []
    }
  ],
  "metadata": {
    "kernelspec": {
      "name": "python36",
      "display_name": "Python 3.6",
      "language": "python"
    },
    "language_info": {
      "mimetype": "text/x-python",
      "nbconvert_exporter": "python",
      "name": "python",
      "pygments_lexer": "ipython3",
      "version": "3.6.6",
      "file_extension": ".py",
      "codemirror_mode": {
        "version": 3,
        "name": "ipython"
      }
    }
  },
  "nbformat": 4,
  "nbformat_minor": 2
}