{
  "cells": [
    {
      "metadata": {
        "trusted": true
      },
      "cell_type": "code",
      "source": "def hanoi_tower(n, source, via, target):\n    if n == 0: return\n    hanoi_tower(n-1, source, target, via)\n    print(\"{} moves from {} to {}\".format(n, source, target))\n    hanoi_tower(n-1, via, source, target)",
      "execution_count": 4,
      "outputs": []
    },
    {
      "metadata": {
        "trusted": true
      },
      "cell_type": "code",
      "source": "hanoi_tower(1, \"A\", \"B\", \"C\")",
      "execution_count": 5,
      "outputs": [
        {
          "output_type": "stream",
          "text": "1 moves from A to C\n",
          "name": "stdout"
        }
      ]
    },
    {
      "metadata": {
        "trusted": true
      },
      "cell_type": "code",
      "source": "hanoi_tower(2, \"A\", \"B\", \"C\")",
      "execution_count": 6,
      "outputs": [
        {
          "output_type": "stream",
          "text": "1 moves from A to B\n2 moves from A to C\n1 moves from B to C\n",
          "name": "stdout"
        }
      ]
    },
    {
      "metadata": {
        "trusted": true
      },
      "cell_type": "code",
      "source": "hanoi_tower(3, \"A\", \"B\", \"C\")",
      "execution_count": 7,
      "outputs": [
        {
          "output_type": "stream",
          "text": "1 moves from A to C\n2 moves from A to B\n1 moves from C to B\n3 moves from A to C\n1 moves from B to A\n2 moves from B to C\n1 moves from A to C\n",
          "name": "stdout"
        }
      ]
    },
    {
      "metadata": {
        "trusted": true
      },
      "cell_type": "code",
      "source": "hanoi_tower(4, \"A\", \"B\", \"C\")",
      "execution_count": 8,
      "outputs": [
        {
          "output_type": "stream",
          "text": "1 moves from A to B\n2 moves from A to C\n1 moves from B to C\n3 moves from A to B\n1 moves from C to A\n2 moves from C to B\n1 moves from A to B\n4 moves from A to C\n1 moves from B to C\n2 moves from B to A\n1 moves from C to A\n3 moves from B to C\n1 moves from A to B\n2 moves from A to C\n1 moves from B to C\n",
          "name": "stdout"
        }
      ]
    },
    {
      "metadata": {
        "trusted": true
      },
      "cell_type": "code",
      "source": "hanoi_tower(5, \"A\", \"B\", \"C\")",
      "execution_count": 9,
      "outputs": [
        {
          "output_type": "stream",
          "text": "1 moves from A to C\n2 moves from A to B\n1 moves from C to B\n3 moves from A to C\n1 moves from B to A\n2 moves from B to C\n1 moves from A to C\n4 moves from A to B\n1 moves from C to B\n2 moves from C to A\n1 moves from B to A\n3 moves from C to B\n1 moves from A to C\n2 moves from A to B\n1 moves from C to B\n5 moves from A to C\n1 moves from B to A\n2 moves from B to C\n1 moves from A to C\n3 moves from B to A\n1 moves from C to B\n2 moves from C to A\n1 moves from B to A\n4 moves from B to C\n1 moves from A to C\n2 moves from A to B\n1 moves from C to B\n3 moves from A to C\n1 moves from B to A\n2 moves from B to C\n1 moves from A to C\n",
          "name": "stdout"
        }
      ]
    },
    {
      "metadata": {
        "trusted": true
      },
      "cell_type": "code",
      "source": "",
      "execution_count": null,
      "outputs": []
    }
  ],
  "metadata": {
    "kernelspec": {
      "name": "python36",
      "display_name": "Python 3.6",
      "language": "python"
    },
    "language_info": {
      "mimetype": "text/x-python",
      "nbconvert_exporter": "python",
      "name": "python",
      "pygments_lexer": "ipython3",
      "version": "3.6.6",
      "file_extension": ".py",
      "codemirror_mode": {
        "version": 3,
        "name": "ipython"
      }
    }
  },
  "nbformat": 4,
  "nbformat_minor": 2
}