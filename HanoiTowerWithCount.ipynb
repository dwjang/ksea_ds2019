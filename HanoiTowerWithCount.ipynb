{
  "cells": [
    {
      "metadata": {
        "trusted": true
      },
      "cell_type": "code",
      "source": "count = 0\n\ndef hanoi_tower(n, source, via, target):\n    if n == 0: return\n    hanoi_tower(n-1, source, target, via)\n    print(\"{} moves {} to {}\".format(n, source, target))\n    global count\n    count += 1\n    hanoi_tower(n-1, via, source, target)\n",
      "execution_count": 4,
      "outputs": []
    },
    {
      "metadata": {
        "trusted": true
      },
      "cell_type": "code",
      "source": "count = 0\nhanoi_tower(1, \"A\", \"B\", \"C\")\nprint(\"count: {}\".format(count))",
      "execution_count": 6,
      "outputs": [
        {
          "output_type": "stream",
          "text": "1 moves A to C\ncount: 1\n",
          "name": "stdout"
        }
      ]
    },
    {
      "metadata": {
        "trusted": true
      },
      "cell_type": "code",
      "source": "count = 0\nhanoi_tower(2, \"A\", \"B\", \"C\")\nprint(\"count: {}\".format(count))",
      "execution_count": 7,
      "outputs": [
        {
          "output_type": "stream",
          "text": "1 moves A to B\n2 moves A to C\n1 moves B to C\ncount: 3\n",
          "name": "stdout"
        }
      ]
    },
    {
      "metadata": {
        "trusted": true
      },
      "cell_type": "code",
      "source": "count = 0\nhanoi_tower(3, \"A\", \"B\", \"C\")\nprint(\"count: {}\".format(count))",
      "execution_count": 8,
      "outputs": [
        {
          "output_type": "stream",
          "text": "1 moves A to C\n2 moves A to B\n1 moves C to B\n3 moves A to C\n1 moves B to A\n2 moves B to C\n1 moves A to C\ncount: 7\n",
          "name": "stdout"
        }
      ]
    },
    {
      "metadata": {
        "trusted": true
      },
      "cell_type": "code",
      "source": "count = 0\nhanoi_tower(4, \"A\", \"B\", \"C\")\nprint(\"count: {}\".format(count))",
      "execution_count": 9,
      "outputs": [
        {
          "output_type": "stream",
          "text": "1 moves A to B\n2 moves A to C\n1 moves B to C\n3 moves A to B\n1 moves C to A\n2 moves C to B\n1 moves A to B\n4 moves A to C\n1 moves B to C\n2 moves B to A\n1 moves C to A\n3 moves B to C\n1 moves A to B\n2 moves A to C\n1 moves B to C\ncount: 15\n",
          "name": "stdout"
        }
      ]
    },
    {
      "metadata": {
        "trusted": true
      },
      "cell_type": "code",
      "source": "",
      "execution_count": null,
      "outputs": []
    }
  ],
  "metadata": {
    "kernelspec": {
      "name": "python36",
      "display_name": "Python 3.6",
      "language": "python"
    },
    "language_info": {
      "mimetype": "text/x-python",
      "nbconvert_exporter": "python",
      "name": "python",
      "pygments_lexer": "ipython3",
      "version": "3.6.6",
      "file_extension": ".py",
      "codemirror_mode": {
        "version": 3,
        "name": "ipython"
      }
    }
  },
  "nbformat": 4,
  "nbformat_minor": 2
}