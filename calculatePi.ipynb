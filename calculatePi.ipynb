{
  "cells": [
    {
      "metadata": {
        "trusted": true
      },
      "cell_type": "code",
      "source": "d2 = 2\nside = 4\n\nfor i in range(10):\n    pi = side * d2**0.5 / 2.0\n    print(i, side, d2, pi)\n    d2 = 2 - 2 * (1 - d2/4.0)**0.5\n    side = 2 * side",
      "execution_count": 4,
      "outputs": [
        {
          "output_type": "stream",
          "text": "0 4 2 2.8284271247461903\n1 8 0.5857864376269049 3.061467458920718\n2 16 0.15224093497742652 3.121445152258053\n3 32 0.03842943919353914 3.1365484905459406\n4 64 0.009630546655606143 3.140331156954739\n5 128 0.00240908758965519 3.141277250932757\n6 256 0.0006023626075915001 3.1415138011441455\n7 512 0.00015059632171099402 3.1415729403678827\n8 1024 3.764943479778182e-05 3.141587725279961\n9 2048 9.41238084761764e-06 3.141591421504635\n",
          "name": "stdout"
        }
      ]
    },
    {
      "metadata": {
        "trusted": true
      },
      "cell_type": "code",
      "source": "def calpi(side, d2):\n    pi = side * d2**0.5 / 2.0\n    return pi\n\ndef calsidelength(d2):\n    d = 2 - 2 * (1 - d2/4.0)**0.5\n    return d\n\ndef cuteprint(i, side, d2, pi):\n    #print(i, side, d2, pi)\n    #outstr = \"iteration: {}, side:{}, length:{}, estimated pi:{}\".format(i, side, d2, pi)\n    outstr = \"iteration: %2d, side: %2d, length: %10.8f, estimated pi: %20.18f\" % (i, side, d2, pi)\n    print(outstr)\n    return\n\ndef calpibyn(d2, side, nmax):\n    for i in range(5):\n        pi = calpi(side, d2)\n        cuteprint(i, side, d2, pi)\n        d2 = calsidelength(d2)\n        side *= 2    \n\nd2 = 2\nside = 4\ncalpibyn(d2, side, 5)\n",
      "execution_count": 10,
      "outputs": [
        {
          "output_type": "stream",
          "text": "iteration:  0, side:  4, length: 2.00000000, estimated pi: 2.828427124746190291\niteration:  1, side:  8, length: 0.58578644, estimated pi: 3.061467458920717810\niteration:  2, side: 16, length: 0.15224093, estimated pi: 3.121445152258052858\niteration:  3, side: 32, length: 0.03842944, estimated pi: 3.136548490545940648\niteration:  4, side: 64, length: 0.00963055, estimated pi: 3.140331156954739189\n",
          "name": "stdout"
        }
      ]
    },
    {
      "metadata": {
        "trusted": true
      },
      "cell_type": "code",
      "source": "",
      "execution_count": null,
      "outputs": []
    }
  ],
  "metadata": {
    "kernelspec": {
      "name": "python36",
      "display_name": "Python 3.6",
      "language": "python"
    },
    "language_info": {
      "mimetype": "text/x-python",
      "nbconvert_exporter": "python",
      "name": "python",
      "pygments_lexer": "ipython3",
      "version": "3.6.6",
      "file_extension": ".py",
      "codemirror_mode": {
        "version": 3,
        "name": "ipython"
      }
    }
  },
  "nbformat": 4,
  "nbformat_minor": 2
}