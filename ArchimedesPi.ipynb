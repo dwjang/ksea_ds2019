{
  "cells": [
    {
      "metadata": {
        "trusted": true
      },
      "cell_type": "code",
      "source": "def bisect_side(d):\n    return 2 - 2*(1 - d/4)**0.5\n\ndef calculate_pi(d, side):\n    return d**0.5 * side / 2.0\n\nd = 2 # initial squared sdie\nside = 4\n\nprint(\"iter, side, length, pi\")\nfor i in range(15):\n    pi = calculate_pi(d, side)\n    print(\"{}, {}, {}, {}\".format(i, side, d, pi))\n    d = bisect_side(d)\n    side = side*2\n    ",
      "execution_count": 4,
      "outputs": [
        {
          "output_type": "stream",
          "text": "iter, side, length, pi\n0, 4, 2, 2.8284271247461903\n1, 8, 0.5857864376269049, 3.061467458920718\n2, 16, 0.15224093497742652, 3.121445152258053\n3, 32, 0.03842943919353914, 3.1365484905459406\n4, 64, 0.009630546655606143, 3.140331156954739\n5, 128, 0.00240908758965519, 3.141277250932757\n6, 256, 0.0006023626075915001, 3.1415138011441455\n7, 512, 0.00015059632171099402, 3.1415729403678827\n8, 1024, 3.764943479778182e-05, 3.141587725279961\n9, 2048, 9.41238084761764e-06, 3.141591421504635\n10, 4096, 2.3530965962414996e-06, 3.141592345611077\n11, 8192, 5.882742355467485e-07, 3.1415925765450043\n12, 16384, 1.4706856421575765e-07, 3.1415926334632482\n13, 32768, 3.676714155353977e-08, 3.141592654807589\n14, 65536, 9.191785332873792e-09, 3.1415926453212153\n",
          "name": "stdout"
        }
      ]
    },
    {
      "metadata": {
        "trusted": true
      },
      "cell_type": "code",
      "source": "",
      "execution_count": null,
      "outputs": []
    }
  ],
  "metadata": {
    "kernelspec": {
      "name": "python36",
      "display_name": "Python 3.6",
      "language": "python"
    },
    "language_info": {
      "mimetype": "text/x-python",
      "nbconvert_exporter": "python",
      "name": "python",
      "pygments_lexer": "ipython3",
      "version": "3.6.6",
      "file_extension": ".py",
      "codemirror_mode": {
        "version": 3,
        "name": "ipython"
      }
    }
  },
  "nbformat": 4,
  "nbformat_minor": 2
}